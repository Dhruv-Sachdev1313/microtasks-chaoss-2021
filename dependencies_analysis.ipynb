{
 "cells": [
  {
   "cell_type": "markdown",
   "id": "c4bf8cce",
   "metadata": {},
   "source": [
    "# Microtask For CHAOSS\n",
    "\n",
    "### This Jupyter Notebook is using OSSF-scorecard API and libraries.io to generate visulaisation for identified Dependencies in different Open Source Projects\n",
    "\n",
    "**Note**: If you want to use this Jupyter notebook in your local machines, make sure to create a virtual environment and activate it and install pandas,requests,numpy,matplotlib,jupyter. We can do it by writing the following in terminal.\n",
    "\n",
    "` $pip install pandas `\n",
    "\n",
    "` $pip install requests `\n",
    "\n",
    "` $pip install matplotlib `\n",
    "\n",
    "` $pip install jupyter `\n",
    "\n",
    "` $pip install numpy ` \n",
    "\n",
    "And then finally run the notebook.\n",
    "\n",
    "---\n",
    "\n",
    "So First I have used OSSF Api, The initaial is just the Confidence Scores for different parameters of a random repository that the api returned. This not much detailed but is basically an Api check  "
   ]
  },
  {
   "cell_type": "code",
   "execution_count": 1,
   "id": "8333ed1f",
   "metadata": {},
   "outputs": [],
   "source": [
    "import requests\n",
    "from matplotlib import pyplot as plt"
   ]
  },
  {
   "cell_type": "code",
   "execution_count": 2,
   "id": "ee10c60c",
   "metadata": {},
   "outputs": [],
   "source": [
    "con_score = []\n",
    "con_index = [0,1,2,3,4,5,6,7,8,9,10,11,12] "
   ]
  },
  {
   "cell_type": "code",
   "execution_count": 4,
   "id": "d1420f78",
   "metadata": {},
   "outputs": [],
   "source": [
    "reponse = requests.get(\"https://storage.googleapis.com/ossf-scorecards/latest.json\")\n",
    "card=reponse.json()"
   ]
  },
  {
   "cell_type": "code",
   "execution_count": 5,
   "id": "5401f6bb",
   "metadata": {},
   "outputs": [],
   "source": [
    "for repo in card['results'][0]['Checks']:\n",
    "    con_score.append(int(repo['Confidence']))"
   ]
  },
  {
   "cell_type": "code",
   "execution_count": 6,
   "id": "ad96ab00",
   "metadata": {},
   "outputs": [
    {
     "data": {
      "text/plain": [
       "<function matplotlib.pyplot.show(close=None, block=None)>"
      ]
     },
     "execution_count": 6,
     "metadata": {},
     "output_type": "execute_result"
    },
    {
     "data": {
      "image/png": "[encoded data removed]",
      "text/plain": [
       "<Figure size 432x288 with 1 Axes>"
      ]
     },
     "metadata": {
      "needs_background": "light"
     },
     "output_type": "display_data"
    }
   ],
   "source": [
    "plt.plot(con_index, con_score)\n",
    "plt.xlabel('index')\n",
    "plt.ylabel('score')\n",
    "plt.title('OSSF visualisation')\n",
    "plt.show"
   ]
  },
  {
   "cell_type": "markdown",
   "id": "898f16c2",
   "metadata": {},
   "source": [
    "### This is a graph for a random repo with their OSSF confidence Score for various checks"
   ]
  },
  {
   "cell_type": "code",
   "execution_count": 7,
   "id": "85e3915d",
   "metadata": {},
   "outputs": [],
   "source": [
    "p=0\n",
    "f=0"
   ]
  },
  {
   "cell_type": "code",
   "execution_count": 19,
   "id": "f3c485b2",
   "metadata": {},
   "outputs": [
    {
     "name": "stdout",
     "output_type": "stream",
     "text": [
      "2258 141\n"
     ]
    }
   ],
   "source": [
    "    \n",
    "for repo in card['results']:\n",
    "    if repo['Checks'][2]['Pass'] == True:\n",
    "        p+=1\n",
    "    if repo['Checks'][2]['Pass'] == False:\n",
    "        f+=1\n",
    "\n",
    "print(f,p)"
   ]
  },
  {
   "cell_type": "code",
   "execution_count": 21,
   "id": "78491493",
   "metadata": {},
   "outputs": [
    {
     "data": {
      "image/png": "[encoded data removed]",
      "text/plain": [
       "<Figure size 432x288 with 1 Axes>"
      ]
     },
     "metadata": {},
     "output_type": "display_data"
    }
   ],
   "source": [
    "cii_list = [p,f]\n",
    "cii_label = ['Pass','Fail']\n",
    "plt.axis(\"equal\")\n",
    "plt.pie(cii_list,labels=cii_label,shadow=True, autopct='%1.1f%%',radius=1.5)\n",
    "plt.show()"
   ]
  },
  {
   "cell_type": "markdown",
   "id": "b470e481",
   "metadata": {},
   "source": [
    "### This is a pie Chart representing repositories that are passing CII best practises check according to OSSF.\n",
    "\n",
    "---\n",
    "---\n",
    "\n",
    "### From here we start using libraries.io\n",
    "\n",
    "\n",
    "### projects is a list that contain list of projects that you want to know about dependencies they have(We can add more if we want)  "
   ]
  },
  {
   "cell_type": "code",
   "execution_count": 25,
   "id": "13a22ad1",
   "metadata": {},
   "outputs": [],
   "source": [
    "no_dependencies =[]\n",
    "\n",
    "projects = [\n",
    "    'microsoft/vscode',\n",
    "    'microsoftdocs/azure-docs',\n",
    "    'flutter/flutter',\n",
    "    'firstcontributions/first-contributions',\n",
    "    'tensorflow/tensorflow',\n",
    "    'facebook/react-native',\n",
    "    'kubernetes/kubernetes',\n",
    "    'definitelytyped/definitelytyped',\n",
    "    'ansible/ansible',\n",
    "    'gruntjs/grunt',\n",
    "]"
   ]
  },
  {
   "cell_type": "markdown",
   "id": "39fc1aac",
   "metadata": {},
   "source": [
    "Here **try and except** is used specifically becuse of weird API response for some projects"
   ]
  },
  {
   "cell_type": "code",
   "execution_count": 26,
   "id": "fe753d45",
   "metadata": {},
   "outputs": [],
   "source": [
    "for project in projects:\n",
    "    response = requests.get(\"https://libraries.io/api/github/{}/dependencies?api_key=ac15d698445b751243b8e77a1c7dbb09\".format(project))\n",
    "    bard = response.json()\n",
    "    try:\n",
    "        no_dependencies.append(len(bard['dependencies']))\n",
    "        # print()\n",
    "    except:\n",
    "        print(\"exception raised for dependencies for{}\".format(project))"
   ]
  },
  {
   "cell_type": "code",
   "execution_count": 27,
   "id": "d0e731bf",
   "metadata": {},
   "outputs": [
    {
     "name": "stdout",
     "output_type": "stream",
     "text": [
      "[5657, 0, 4002, 0, 37, 2403, 290, 345, 220, 24]\n"
     ]
    }
   ],
   "source": [
    "print(no_dependencies)"
   ]
  },
  {
   "cell_type": "code",
   "execution_count": 28,
   "id": "aff7be16",
   "metadata": {},
   "outputs": [],
   "source": [
    "import numpy as np"
   ]
  },
  {
   "cell_type": "code",
   "execution_count": 29,
   "id": "respected-steering",
   "metadata": {},
   "outputs": [
    {
     "data": {
      "text/plain": [
       "array([0, 1, 2, 3, 4, 5, 6, 7, 8, 9])"
      ]
     },
     "execution_count": 29,
     "metadata": {},
     "output_type": "execute_result"
    }
   ],
   "source": [
    "xpos = np.arange(len(projects))\n",
    "xpos"
   ]
  },
  {
   "cell_type": "code",
   "execution_count": 30,
   "id": "dynamic-perspective",
   "metadata": {},
   "outputs": [
    {
     "data": {
      "text/plain": [
       "<matplotlib.legend.Legend at 0x124053130>"
      ]
     },
     "execution_count": 30,
     "metadata": {},
     "output_type": "execute_result"
    },
    {
     "data": {
      "image/png": "[encoded data removed]",
      "text/plain": [
       "<Figure size 432x288 with 1 Axes>"
      ]
     },
     "metadata": {
      "needs_background": "light"
     },
     "output_type": "display_data"
    }
   ],
   "source": [
    "plt.bar(xpos,no_dependencies, label=\"Dependencies\")\n",
    "\n",
    "# plt.xticks(xpos, )\n",
    "plt.ylabel(\"dependencies\")\n",
    "plt.xlabel(\"Projects\")\n",
    "plt.title('No of dependencies')\n",
    "plt.legend()"
   ]
  },
  {
   "cell_type": "markdown",
   "id": "710658d1",
   "metadata": {},
   "source": [
    "### This is a bar graph showing the number of dependencies (identified) for the list of projects mentions in the above list "
   ]
  },
  {
   "cell_type": "code",
   "execution_count": 55,
   "id": "a4d8a7f7",
   "metadata": {},
   "outputs": [
    {
     "name": "stdout",
     "output_type": "stream",
     "text": [
      "flutter\n",
      "cupertino_icons\n",
      "meta\n",
      "args\n",
      "collection\n",
      "pedantic\n",
      "quiver\n",
      "crypto\n",
      "path\n",
      "string_scanner\n",
      "stack_trace\n",
      "async\n",
      "image\n",
      "test_api\n",
      "vector_math\n",
      "source_span\n",
      "convert\n",
      "xml\n",
      "archive\n",
      "matcher\n",
      "stream_channel\n",
      "typed_data\n",
      "charcode\n",
      "petitparser\n",
      "boolean_selector\n",
      "term_glyph\n",
      "sky_engine\n",
      "Flutter\n",
      "image_picker\n",
      "http\n"
     ]
    }
   ],
   "source": [
    "import pandas as pd\n",
    "\n",
    "r = requests.get(\"https://libraries.io/api/github/Dhruv-Sachdev1313/dependencies?api_key=ac15d698445b751243b8e77a1c7dbb09\")\n",
    "deps = r.json()\n",
    "dep_repo_count=[]\n",
    "dep_counts=[] \n",
    "for dep in deps:\n",
    "    dep_repo_count.append(dep['dependent_repos_count'])\n",
    "    dep_counts.append(dep['dependents_count'])\n",
    "    print(dep['name'])"
   ]
  },
  {
   "cell_type": "markdown",
   "id": "fac5ea87",
   "metadata": {},
   "source": [
    "### This is a list of all dependencies that my repositories depends on and are arranged in decending order of their frequency "
   ]
  },
  {
   "cell_type": "code",
   "execution_count": 61,
   "id": "4e98e692",
   "metadata": {},
   "outputs": [
    {
     "data": {
      "text/plain": [
       "<matplotlib.legend.Legend at 0x125d7dee0>"
      ]
     },
     "execution_count": 61,
     "metadata": {},
     "output_type": "execute_result"
    },
    {
     "data": {
      "image/png": "[encoded data removed]",
      "text/plain": [
       "<Figure size 432x288 with 1 Axes>"
      ]
     },
     "metadata": {
      "needs_background": "light"
     },
     "output_type": "display_data"
    }
   ],
   "source": [
    "xpos = np.arange(len(dep_counts))\n",
    "plt.bar(xpos-0.2,dep_counts, width = 0.4,label=\"Dependents Count\")\n",
    "plt.bar(xpos+0.2,dep_repo_count, width=0.4,label=\"Dependent Repos Count\")\n",
    "plt.ylabel(\"Count\")\n",
    "# plt.xlabel(\"\")\n",
    "plt.title('Dependent count vs Dependent Repos count')\n",
    "plt.legend()"
   ]
  },
  {
   "cell_type": "markdown",
   "id": "78463e70",
   "metadata": {},
   "source": [
    "---\n",
    "\n",
    "### This was a very basic implemetation of using dependency data. We can always use a lot of other data to make various conclusions. "
   ]
  },
  {
   "cell_type": "code",
   "execution_count": null,
   "id": "1fc61b55",
   "metadata": {},
   "outputs": [],
   "source": []
  }
 ],
 "metadata": {
  "kernelspec": {
   "display_name": "Python 3",
   "language": "python",
   "name": "python3"
  },
  "language_info": {
   "codemirror_mode": {
    "name": "ipython",
    "version": 3
   },
   "file_extension": ".py",
   "mimetype": "text/x-python",
   "name": "python",
   "nbconvert_exporter": "python",
   "pygments_lexer": "ipython3",
   "version": "3.8.4"
  }
 },
 "nbformat": 4,
 "nbformat_minor": 5
}
